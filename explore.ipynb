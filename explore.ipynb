{
 "cells": [
  {
   "cell_type": "code",
   "execution_count": 1,
   "id": "2ea1a34f-ab78-4664-96aa-0fa4a2dface3",
   "metadata": {},
   "outputs": [],
   "source": [
    "import warnings\n",
    "\n",
    "warnings.filterwarnings(\"ignore\")\n",
    "\n",
    "import pyspark.sql\n",
    "from pyspark.sql.functions import *\n",
    "\n",
    "import numpy as np\n",
    "import pandas as pd\n",
    "\n",
    "%matplotlib inline\n",
    "import matplotlib.pyplot as plt\n",
    "import seaborn as sns\n",
    "\n",
    "from pyspark.sql import SparkSession\n",
    "from pyspark.sql.functions import *\n",
    "from pyspark.sql.types import StructType, StructField, StringType\n",
    "\n",
    "import wrangle as w"
   ]
  },
  {
   "cell_type": "code",
   "execution_count": 2,
   "id": "ae55169c-cd71-4d3b-8d63-870bfc138a70",
   "metadata": {},
   "outputs": [
    {
     "name": "stderr",
     "output_type": "stream",
     "text": [
      "WARNING: An illegal reflective access operation has occurred\n",
      "WARNING: Illegal reflective access by org.apache.spark.unsafe.Platform (file:/opt/homebrew/anaconda3/lib/python3.9/site-packages/pyspark/jars/spark-unsafe_2.12-3.2.1.jar) to constructor java.nio.DirectByteBuffer(long,int)\n",
      "WARNING: Please consider reporting this to the maintainers of org.apache.spark.unsafe.Platform\n",
      "WARNING: Use --illegal-access=warn to enable warnings of further illegal reflective access operations\n",
      "WARNING: All illegal access operations will be denied in a future release\n",
      "Using Spark's default log4j profile: org/apache/spark/log4j-defaults.properties\n",
      "Setting default log level to \"WARN\".\n",
      "To adjust logging level use sc.setLogLevel(newLevel). For SparkR, use setLogLevel(newLevel).\n",
      "22/05/23 15:10:44 WARN NativeCodeLoader: Unable to load native-hadoop library for your platform... using builtin-java classes where applicable\n",
      "[Stage 5:>                                                          (0 + 8) / 8]\r"
     ]
    },
    {
     "name": "stdout",
     "output_type": "stream",
     "text": [
      "\n",
      "df shape: (841704, 20)\n",
      "\n"
     ]
    },
    {
     "name": "stderr",
     "output_type": "stream",
     "text": [
      "                                                                                \r"
     ]
    }
   ],
   "source": [
    "df = w.wrangle_311()\n",
    "print(\"\\ndf shape: (%d, %d)\\n\" % (df.count(), len(df.columns)))"
   ]
  },
  {
   "cell_type": "code",
   "execution_count": 3,
   "id": "84e9e1c6-877b-450e-b1ac-500590263206",
   "metadata": {},
   "outputs": [
    {
     "name": "stdout",
     "output_type": "stream",
     "text": [
      "-RECORD 0------------------------------------\n",
      " case_id              | 1014127332           \n",
      " case_opened_date     | 2018-01-01 00:42:00  \n",
      " case_closed_date     | 2018-01-01 12:29:00  \n",
      " case_due_date        | 2020-09-26 00:42:00  \n",
      " case_late            | false                \n",
      " num_days_late        | -998.5087616000001   \n",
      " case_closed          | true                 \n",
      " service_request_type | Stray Animal         \n",
      " SLA_days             | 999.0                \n",
      " case_status          | Closed               \n",
      " source_id            | svcCRMLS             \n",
      " request_address      | 2315  el paso st,... \n",
      " council_district     | 005                  \n",
      " num_weeks_late       | -142.6441088         \n",
      " zipcode              | 78207                \n",
      " case_age             | 1603                 \n",
      " days_to_closed       | 0                    \n",
      " case_lifetime        | 0                    \n",
      " department           | Animal Care Services \n",
      " dept_subject_to_SLA  | true                 \n",
      "only showing top 1 row\n",
      "\n"
     ]
    }
   ],
   "source": [
    "df.show(1, vertical = True)"
   ]
  },
  {
   "cell_type": "code",
   "execution_count": 4,
   "id": "90614728-b7c0-4dce-b8ba-c1a161bdc50f",
   "metadata": {},
   "outputs": [
    {
     "name": "stderr",
     "output_type": "stream",
     "text": [
      "[Stage 11:>                                                         (0 + 8) / 8]\r"
     ]
    },
    {
     "name": "stdout",
     "output_type": "stream",
     "text": [
      "+-----------+------+\n",
      "|case_status| count|\n",
      "+-----------+------+\n",
      "|       Open| 18110|\n",
      "|     Closed|823594|\n",
      "+-----------+------+\n",
      "\n"
     ]
    },
    {
     "name": "stderr",
     "output_type": "stream",
     "text": [
      "                                                                                \r"
     ]
    }
   ],
   "source": [
    "df.groupby(\"case_status\").count().show()"
   ]
  },
  {
   "cell_type": "code",
   "execution_count": 5,
   "id": "8dfc4f63-b501-4761-8d3b-abeaeb4dd2c4",
   "metadata": {},
   "outputs": [
    {
     "name": "stderr",
     "output_type": "stream",
     "text": [
      "[Stage 15:=======>                                                  (1 + 7) / 8]\r"
     ]
    },
    {
     "name": "stdout",
     "output_type": "stream",
     "text": [
      "+-----------+------------------+\n",
      "|case_status|avg(case_lifetime)|\n",
      "+-----------+------------------+\n",
      "|       Open|1466.8733848702375|\n",
      "|     Closed| 9.108263294778737|\n",
      "+-----------+------------------+\n",
      "\n"
     ]
    },
    {
     "name": "stderr",
     "output_type": "stream",
     "text": [
      "                                                                                \r"
     ]
    }
   ],
   "source": [
    "df.groupby(\"case_status\").agg(mean(\"case_lifetime\")).show()"
   ]
  },
  {
   "cell_type": "code",
   "execution_count": 6,
   "id": "7eb8ffec-72d8-4604-b027-fc91f44ba4a3",
   "metadata": {},
   "outputs": [
    {
     "name": "stderr",
     "output_type": "stream",
     "text": [
      "                                                                                \r"
     ]
    },
    {
     "data": {
      "text/plain": [
       "Text(0.5, 0, 'Number of Cases')"
      ]
     },
     "execution_count": 6,
     "metadata": {},
     "output_type": "execute_result"
    },
    {
     "data": {
      "image/png": "[encoded data removed]",
      "text/plain": [
       "<Figure size 1008x360 with 1 Axes>"
      ]
     },
     "metadata": {
      "needs_background": "light"
     },
     "output_type": "display_data"
    }
   ],
   "source": [
    "# First aggregate with spark\n",
    "(\n",
    "    df.groupBy(\"department\")\n",
    "    .count()\n",
    "    # then pass to pandas\n",
    "    .toPandas()\n",
    "    .set_index(\"department\")[\"count\"]\n",
    "    .sort_values(ascending=False)\n",
    "    .plot.barh(width=1, edgecolor=\"black\", color='green', figsize=(14, 5))\n",
    ")\n",
    "\n",
    "plt.title(\"Number of Cases By Department\")\n",
    "plt.ylabel(\"\")\n",
    "plt.xlabel(\"Number of Cases\")"
   ]
  },
  {
   "cell_type": "code",
   "execution_count": 7,
   "id": "df6b0251-e56a-4c0b-bc6b-8a439d3b8f78",
   "metadata": {},
   "outputs": [
    {
     "name": "stderr",
     "output_type": "stream",
     "text": [
      "                                                                                \r"
     ]
    },
    {
     "data": {
      "text/plain": [
       "Text(0.5, 1.0, 'Case Lifetime By Department')"
      ]
     },
     "execution_count": 7,
     "metadata": {},
     "output_type": "execute_result"
    },
    {
     "data": {
      "image/png": "[encoded data removed]",
      "text/plain": [
       "<Figure size 1008x360 with 1 Axes>"
      ]
     },
     "metadata": {
      "needs_background": "light"
     },
     "output_type": "display_data"
    }
   ],
   "source": [
    "# first aggregate with spark\n",
    "(\n",
    "    df.groupBy(\"department\")\n",
    "    .agg(mean(\"case_lifetime\").alias(\"avg_case_lifetime\"))\n",
    "    # then pass the data to pandas for visualization\n",
    "    .toPandas()\n",
    "    .set_index(\"department\")\n",
    "    .avg_case_lifetime.sort_values(ascending=False)\n",
    "    .plot.barh(width=1, edgecolor=\"black\", color='green', figsize=(14, 5))\n",
    ")\n",
    "\n",
    "plt.xlabel(\"Average Case Lifetime\")\n",
    "plt.ylabel(\"\")\n",
    "plt.title(\"Case Lifetime By Department\")"
   ]
  },
  {
   "cell_type": "code",
   "execution_count": 8,
   "id": "ab7a9f42-838f-47e9-ba58-be15d4e6b513",
   "metadata": {},
   "outputs": [
    {
     "name": "stderr",
     "output_type": "stream",
     "text": [
      "[Stage 33:=======>                                                  (1 + 7) / 8]\r"
     ]
    },
    {
     "name": "stdout",
     "output_type": "stream",
     "text": [
      "+------------------------+------+-------+\n",
      "|department              |Closed|Open   |\n",
      "+------------------------+------+-------+\n",
      "|Solid Waste             |3.4   |1400.45|\n",
      "|Animal Care Services    |5.51  |1405.36|\n",
      "|Metro Health            |6.82  |1388.64|\n",
      "|Trans & Cap Improvements|8.0   |1438.39|\n",
      "|Parks & Recreation      |10.66 |1448.72|\n",
      "|DSD/Code Enforcement    |15.64 |1475.56|\n",
      "|City Council            |29.25 |1538.07|\n",
      "|Customer Service        |48.94 |1556.94|\n",
      "+------------------------+------+-------+\n",
      "\n"
     ]
    },
    {
     "name": "stderr",
     "output_type": "stream",
     "text": [
      "                                                                                \r"
     ]
    }
   ],
   "source": [
    "(\n",
    "    df.groupBy(\"department\")\n",
    "    .pivot(\"case_status\")\n",
    "    .agg(round(mean(\"case_lifetime\"), 2))\n",
    "    .orderBy(\"Closed\")\n",
    "    .show(truncate=False)\n",
    ")"
   ]
  },
  {
   "cell_type": "code",
   "execution_count": 9,
   "id": "5816b1f8-e915-4bb9-b22f-7e70053b8478",
   "metadata": {},
   "outputs": [
    {
     "name": "stderr",
     "output_type": "stream",
     "text": [
      "                                                                                \r"
     ]
    },
    {
     "name": "stdout",
     "output_type": "stream",
     "text": [
      "shape: (8522, 20)\n"
     ]
    },
    {
     "data": {
      "text/html": [
       "<div>\n",
       "<style scoped>\n",
       "    .dataframe tbody tr th:only-of-type {\n",
       "        vertical-align: middle;\n",
       "    }\n",
       "\n",
       "    .dataframe tbody tr th {\n",
       "        vertical-align: top;\n",
       "    }\n",
       "\n",
       "    .dataframe thead th {\n",
       "        text-align: right;\n",
       "    }\n",
       "</style>\n",
       "<table border=\"1\" class=\"dataframe\">\n",
       "  <thead>\n",
       "    <tr style=\"text-align: right;\">\n",
       "      <th></th>\n",
       "      <th>case_id</th>\n",
       "      <th>case_opened_date</th>\n",
       "      <th>case_closed_date</th>\n",
       "      <th>case_due_date</th>\n",
       "      <th>case_late</th>\n",
       "      <th>num_days_late</th>\n",
       "      <th>case_closed</th>\n",
       "      <th>service_request_type</th>\n",
       "      <th>SLA_days</th>\n",
       "      <th>case_status</th>\n",
       "      <th>source_id</th>\n",
       "      <th>request_address</th>\n",
       "      <th>council_district</th>\n",
       "      <th>num_weeks_late</th>\n",
       "      <th>zipcode</th>\n",
       "      <th>case_age</th>\n",
       "      <th>days_to_closed</th>\n",
       "      <th>case_lifetime</th>\n",
       "      <th>department</th>\n",
       "      <th>dept_subject_to_SLA</th>\n",
       "    </tr>\n",
       "  </thead>\n",
       "  <tbody>\n",
       "    <tr>\n",
       "      <th>0</th>\n",
       "      <td>1014127339</td>\n",
       "      <td>2018-01-01 06:58:00</td>\n",
       "      <td>2018-01-02 15:32:00</td>\n",
       "      <td>2018-01-17 08:30:00</td>\n",
       "      <td>False</td>\n",
       "      <td>-14.706620</td>\n",
       "      <td>True</td>\n",
       "      <td>Front Or Side Yard Parking</td>\n",
       "      <td>16.063796</td>\n",
       "      <td>Closed</td>\n",
       "      <td>svcCRMSS</td>\n",
       "      <td>10133  figaro canyon, san antonio, 78251</td>\n",
       "      <td>004</td>\n",
       "      <td>-2.100946</td>\n",
       "      <td>78251</td>\n",
       "      <td>1603</td>\n",
       "      <td>1.0</td>\n",
       "      <td>1</td>\n",
       "      <td>DSD/Code Enforcement</td>\n",
       "      <td>True</td>\n",
       "    </tr>\n",
       "    <tr>\n",
       "      <th>1</th>\n",
       "      <td>1014127368</td>\n",
       "      <td>2018-01-01 07:18:00</td>\n",
       "      <td>2018-01-02 15:22:00</td>\n",
       "      <td>2018-01-17 08:30:00</td>\n",
       "      <td>False</td>\n",
       "      <td>-14.713275</td>\n",
       "      <td>True</td>\n",
       "      <td>Right Of Way/Sidewalk Obstruction</td>\n",
       "      <td>16.049769</td>\n",
       "      <td>Closed</td>\n",
       "      <td>svcCRMSS</td>\n",
       "      <td>10133  figaro canyon, san antonio, 78251</td>\n",
       "      <td>004</td>\n",
       "      <td>-2.101896</td>\n",
       "      <td>78251</td>\n",
       "      <td>1603</td>\n",
       "      <td>1.0</td>\n",
       "      <td>1</td>\n",
       "      <td>DSD/Code Enforcement</td>\n",
       "      <td>True</td>\n",
       "    </tr>\n",
       "    <tr>\n",
       "      <th>2</th>\n",
       "      <td>1014127446</td>\n",
       "      <td>2018-01-01 11:27:00</td>\n",
       "      <td>2018-01-03 17:08:00</td>\n",
       "      <td>2018-01-06 11:27:00</td>\n",
       "      <td>False</td>\n",
       "      <td>-2.763333</td>\n",
       "      <td>True</td>\n",
       "      <td>Aggressive Animal(Non-Critical)</td>\n",
       "      <td>5.000000</td>\n",
       "      <td>Closed</td>\n",
       "      <td>139344</td>\n",
       "      <td>san fernando and san horacio s</td>\n",
       "      <td>005</td>\n",
       "      <td>-0.394762</td>\n",
       "      <td></td>\n",
       "      <td>1603</td>\n",
       "      <td>2.0</td>\n",
       "      <td>2</td>\n",
       "      <td>Animal Care Services</td>\n",
       "      <td>True</td>\n",
       "    </tr>\n",
       "    <tr>\n",
       "      <th>3</th>\n",
       "      <td>1014127470</td>\n",
       "      <td>2018-01-01 12:33:00</td>\n",
       "      <td>2018-01-01 12:43:00</td>\n",
       "      <td>2020-09-26 12:33:00</td>\n",
       "      <td>False</td>\n",
       "      <td>-998.993079</td>\n",
       "      <td>True</td>\n",
       "      <td>Stray Animal</td>\n",
       "      <td>999.000000</td>\n",
       "      <td>Closed</td>\n",
       "      <td>139344</td>\n",
       "      <td>159  surfrider, san antonio, 78242</td>\n",
       "      <td>004</td>\n",
       "      <td>-142.713297</td>\n",
       "      <td>78242</td>\n",
       "      <td>1603</td>\n",
       "      <td>0.0</td>\n",
       "      <td>0</td>\n",
       "      <td>Animal Care Services</td>\n",
       "      <td>True</td>\n",
       "    </tr>\n",
       "    <tr>\n",
       "      <th>4</th>\n",
       "      <td>1014127599</td>\n",
       "      <td>2018-01-01 15:25:00</td>\n",
       "      <td>2018-01-03 05:52:00</td>\n",
       "      <td>2018-01-02 03:25:00</td>\n",
       "      <td>True</td>\n",
       "      <td>1.101817</td>\n",
       "      <td>True</td>\n",
       "      <td>Trapped/Confined Animal</td>\n",
       "      <td>0.500000</td>\n",
       "      <td>Closed</td>\n",
       "      <td>rs16746</td>\n",
       "      <td>633  st marys s, san antonio, 78205</td>\n",
       "      <td>001</td>\n",
       "      <td>0.157402</td>\n",
       "      <td>78205</td>\n",
       "      <td>1603</td>\n",
       "      <td>2.0</td>\n",
       "      <td>2</td>\n",
       "      <td>Animal Care Services</td>\n",
       "      <td>True</td>\n",
       "    </tr>\n",
       "  </tbody>\n",
       "</table>\n",
       "</div>"
      ],
      "text/plain": [
       "      case_id    case_opened_date    case_closed_date       case_due_date  \\\n",
       "0  1014127339 2018-01-01 06:58:00 2018-01-02 15:32:00 2018-01-17 08:30:00   \n",
       "1  1014127368 2018-01-01 07:18:00 2018-01-02 15:22:00 2018-01-17 08:30:00   \n",
       "2  1014127446 2018-01-01 11:27:00 2018-01-03 17:08:00 2018-01-06 11:27:00   \n",
       "3  1014127470 2018-01-01 12:33:00 2018-01-01 12:43:00 2020-09-26 12:33:00   \n",
       "4  1014127599 2018-01-01 15:25:00 2018-01-03 05:52:00 2018-01-02 03:25:00   \n",
       "\n",
       "   case_late  num_days_late  case_closed               service_request_type  \\\n",
       "0      False     -14.706620         True         Front Or Side Yard Parking   \n",
       "1      False     -14.713275         True  Right Of Way/Sidewalk Obstruction   \n",
       "2      False      -2.763333         True    Aggressive Animal(Non-Critical)   \n",
       "3      False    -998.993079         True                       Stray Animal   \n",
       "4       True       1.101817         True            Trapped/Confined Animal   \n",
       "\n",
       "     SLA_days case_status source_id                           request_address  \\\n",
       "0   16.063796      Closed  svcCRMSS  10133  figaro canyon, san antonio, 78251   \n",
       "1   16.049769      Closed  svcCRMSS  10133  figaro canyon, san antonio, 78251   \n",
       "2    5.000000      Closed    139344            san fernando and san horacio s   \n",
       "3  999.000000      Closed    139344        159  surfrider, san antonio, 78242   \n",
       "4    0.500000      Closed   rs16746       633  st marys s, san antonio, 78205   \n",
       "\n",
       "  council_district  num_weeks_late zipcode  case_age  days_to_closed  \\\n",
       "0              004       -2.100946   78251      1603             1.0   \n",
       "1              004       -2.101896   78251      1603             1.0   \n",
       "2              005       -0.394762              1603             2.0   \n",
       "3              004     -142.713297   78242      1603             0.0   \n",
       "4              001        0.157402   78205      1603             2.0   \n",
       "\n",
       "   case_lifetime            department  dept_subject_to_SLA  \n",
       "0              1  DSD/Code Enforcement                 True  \n",
       "1              1  DSD/Code Enforcement                 True  \n",
       "2              2  Animal Care Services                 True  \n",
       "3              0  Animal Care Services                 True  \n",
       "4              2  Animal Care Services                 True  "
      ]
     },
     "execution_count": 9,
     "metadata": {},
     "output_type": "execute_result"
    }
   ],
   "source": [
    "sample = df.sample(fraction=0.01, seed=13).toPandas()\n",
    "print(\"shape:\", sample.shape)\n",
    "sample.head()"
   ]
  },
  {
   "cell_type": "code",
   "execution_count": null,
   "id": "91c5c55e-b199-4f1a-a9f7-3a8889fe60b6",
   "metadata": {},
   "outputs": [],
   "source": [
    "numeric_cols = [\n",
    "    \"num_days_late\",\n",
    "    \"SLA_days\",\n",
    "    \"case_age\",\n",
    "    \"days_to_closed\",\n",
    "    \"case_lifetime\",\n",
    "]\n",
    "\n",
    "sns.pairplot(sample[numeric_cols])"
   ]
  },
  {
   "cell_type": "code",
   "execution_count": null,
   "id": "0b6aa72d-712a-4675-9858-3e8611d848a9",
   "metadata": {},
   "outputs": [],
   "source": [
    "sample.case_lifetime.plot.hist(color='green')"
   ]
  },
  {
   "cell_type": "code",
   "execution_count": null,
   "id": "a9f46bf1-bcbc-4074-82ef-8f65b3284c02",
   "metadata": {},
   "outputs": [],
   "source": [
    "pd.cut(sample.case_lifetime, 4).value_counts().sort_index()"
   ]
  },
  {
   "cell_type": "code",
   "execution_count": null,
   "id": "c5d6c863-48a0-4b6b-b74d-3aa1a8c523e5",
   "metadata": {},
   "outputs": [],
   "source": [
    "# In the call to `pd.cut`, we add right=False so that the behavior of pd.cut\n",
    "# aligns with the behavior of np.histogram, which is what matplotlib uses when\n",
    "# constructing a histogram.\n",
    "\n",
    "# custom bins of varying widths\n",
    "bins = [0, 1, 2, 5, 15, 1000]\n",
    "\n",
    "print(\n",
    "    pd.cut(sample.case_lifetime, bins, right=False).value_counts().sort_index()\n",
    ")\n",
    "\n",
    "pd.cut(\n",
    "    sample.case_lifetime, bins, right=False\n",
    ").value_counts().sort_index().plot.bar(\n",
    "    width=1, edgecolor=\"black\", color=\"green\"\n",
    ")\n",
    "plt.xticks(rotation=0)\n",
    "plt.title(\"Overall Case Lifetime\")"
   ]
  },
  {
   "cell_type": "code",
   "execution_count": null,
   "id": "66e8a838-d9d7-4436-8202-7f43309e912b",
   "metadata": {},
   "outputs": [],
   "source": [
    "closed_cases = sample.query(\"case_closed\")\n",
    "open_cases = sample.query(\"not case_closed\")"
   ]
  },
  {
   "cell_type": "code",
   "execution_count": null,
   "id": "f4990ff2-a10f-41cd-80ec-1f9595ed6611",
   "metadata": {},
   "outputs": [],
   "source": [
    "plt.figure(figsize=(16, 6))\n",
    "\n",
    "plt.subplot(121)\n",
    "(\n",
    "    pd.cut(closed_cases.case_lifetime, bins=bins, right=False)\n",
    "    .value_counts()\n",
    "    .sort_index()\n",
    "    .plot.bar(width=1, edgecolor=\"black\", color=\"pink\", ax=plt.gca())\n",
    ")\n",
    "plt.title(\"Closed Cases (n={:,})\".format(closed_cases.shape[0]))\n",
    "plt.xticks(rotation=0)\n",
    "\n",
    "plt.subplot(122)\n",
    "(\n",
    "    pd.cut(open_cases.case_lifetime, bins=bins, right=False)\n",
    "    .value_counts()\n",
    "    .sort_index()\n",
    "    .plot.bar(width=1, edgecolor=\"black\", color=\"pink\", ax=plt.gca())\n",
    ")\n",
    "plt.title(\"Open Cases (n={:,})\".format(open_cases.shape[0]))\n",
    "plt.xticks(rotation=0)\n",
    "\n",
    "plt.suptitle(\"Distribution of Case Lifetime\")"
   ]
  },
  {
   "cell_type": "code",
   "execution_count": null,
   "id": "133d583d-49cd-4025-9e30-31df0902fead",
   "metadata": {},
   "outputs": [],
   "source": [
    "cases_by_day = df.select(\n",
    "    \"department\",\n",
    "    date_format(\"case_opened_date\", \"yyyy-MM-dd\").alias(\"case_opened_date\"),\n",
    "    date_format(\"case_closed_date\", \"yyyy-MM-dd\").alias(\"case_closed_date\"),\n",
    ")\n",
    "\n",
    "cases_by_day.show(5)"
   ]
  },
  {
   "cell_type": "code",
   "execution_count": null,
   "id": "bd33f65e-24c0-419d-ad79-171ccb12a157",
   "metadata": {},
   "outputs": [],
   "source": [
    "cases_opened_by_day = (\n",
    "    cases_by_day\n",
    "    .groupby('case_opened_date')\n",
    "    .count()\n",
    "    .na.drop()\n",
    "    .sort('case_opened_date')\n",
    "    .toPandas()\n",
    "    .assign(case_opened_date=lambda df: pd.to_datetime(df.case_opened_date))\n",
    "    .set_index('case_opened_date')\n",
    "    ['count']\n",
    ")\n",
    "cases_opened_by_day.name = 'cases_opened'"
   ]
  },
  {
   "cell_type": "code",
   "execution_count": null,
   "id": "829eb375-b9b4-4da9-a34a-e8f8895fddb9",
   "metadata": {},
   "outputs": [],
   "source": [
    "cases_closed_by_day = (\n",
    "    cases_by_day\n",
    "    .groupby('case_closed_date')\n",
    "    .count()\n",
    "    .na.drop()\n",
    "    .sort('case_closed_date')\n",
    "    .toPandas()\n",
    "    .assign(case_closed_date=lambda df: pd.to_datetime(df.case_closed_date))\n",
    "    .set_index('case_closed_date')\n",
    "    ['count']\n",
    ")\n",
    "cases_closed_by_day.name = 'cases_closed'"
   ]
  },
  {
   "cell_type": "code",
   "execution_count": null,
   "id": "a1fd2b53-830a-4a4e-852b-fdc234722867",
   "metadata": {},
   "outputs": [],
   "source": [
    "ts = pd.concat([cases_opened_by_day, cases_closed_by_day], axis=1)\n",
    "ts.head(5)"
   ]
  },
  {
   "cell_type": "code",
   "execution_count": null,
   "id": "3c4fb063-9521-4b95-99c6-ac8c6413f85e",
   "metadata": {},
   "outputs": [],
   "source": [
    "ts.resample(\"M\").mean().plot.bar(\n",
    "    figsize=(16, 6), width=0.8, ec=\"black\", color=[\"pink\", \"lightgreen\"]\n",
    ")\n",
    "\n",
    "# pretty x-axis labels\n",
    "ticks, labels = plt.xticks()\n",
    "labels = pd.to_datetime([l.get_text() for l in labels]).strftime(\"%b %y\")\n",
    "plt.xticks(ticks, labels, rotation=0)\n",
    "None"
   ]
  },
  {
   "cell_type": "markdown",
   "id": "534e2e14-f685-4dbf-bc3e-aebf246edaf5",
   "metadata": {},
   "source": [
    "### How many different cases are there, by department?"
   ]
  },
  {
   "cell_type": "code",
   "execution_count": null,
   "id": "f30f73df-5839-40ad-bbf2-41cc72343211",
   "metadata": {},
   "outputs": [],
   "source": [
    "(\n",
    "    df.groupby(\"department\")\n",
    "    .count()\n",
    "    .toPandas()\n",
    "    .set_index(\"department\")[\"count\"]\n",
    "    .sort_values()\n",
    "    .plot.barh(width=1, edgecolor=\"black\", color='green', figsize=(14, 5))\n",
    ")\n",
    "plt.xlabel(\"Number of Cases\")\n",
    "plt.title(\"Number of Cases By Department\")"
   ]
  },
  {
   "cell_type": "markdown",
   "id": "0297df4b-8273-497e-b9fd-07aa8a53b0a5",
   "metadata": {},
   "source": [
    "### Does the percentage of cases that are late vary by department?"
   ]
  },
  {
   "cell_type": "code",
   "execution_count": null,
   "id": "d53d4031-1dbc-400b-ad27-03c4dbddf964",
   "metadata": {},
   "outputs": [],
   "source": [
    "df.dtypes"
   ]
  },
  {
   "cell_type": "code",
   "execution_count": null,
   "id": "6938676e-acd0-4f2e-865e-bc67dc846f6c",
   "metadata": {},
   "outputs": [],
   "source": [
    "(\n",
    "    df.withColumn(\"case_late\", col(\"case_late\").cast(\"int\"))\n",
    "    .groupby(\"department\")\n",
    "    .agg(avg(\"case_late\").alias(\"prob_cases_late\"))\n",
    "    .toPandas()\n",
    "    .set_index(\"department\")\n",
    "    .prob_cases_late.sort_values()\n",
    "    .plot.barh(width=1, edgecolor=\"black\", color='green', figsize=(14, 5))\n",
    ")\n",
    "plt.xlabel(\"% Late Cases\")\n",
    "plt.title(\"% of Late Cases By Department\")"
   ]
  },
  {
   "cell_type": "markdown",
   "id": "cdcac4bb-dd1c-45a2-aec2-15fa15d15463",
   "metadata": {},
   "source": [
    "### On average, how late are the late cases by department?"
   ]
  },
  {
   "cell_type": "code",
   "execution_count": null,
   "id": "4e0f4acc-cbc5-4518-84ed-d4bb4fc71937",
   "metadata": {},
   "outputs": [],
   "source": [
    "(\n",
    "    df.where('case_late')\n",
    "    .groupby(\"department\")\n",
    "    .agg(avg(\"num_days_late\").alias(\"days_cases_late\"))\n",
    "    .toPandas()\n",
    "    .set_index(\"department\")\n",
    "    .days_cases_late.sort_values()\n",
    "    .plot.barh(width=1, edgecolor=\"black\", color='green', figsize=(14, 5))\n",
    ")\n",
    "plt.xlabel(\"Avg Number of Days Late\")\n",
    "plt.title(\"Avg Number of Days Late By Department\")"
   ]
  },
  {
   "cell_type": "markdown",
   "id": "21fa613f-0c16-457f-a81e-b5631e07bf22",
   "metadata": {},
   "source": [
    "### What is the service type that is the most late? Just for Parks & Rec?"
   ]
  },
  {
   "cell_type": "code",
   "execution_count": null,
   "id": "4ed656d0-d9fa-41ab-ac2b-c3c6958d8d78",
   "metadata": {},
   "outputs": [],
   "source": [
    "(\n",
    "    df.where('case_late')\n",
    "    .groupby(\"service_request_type\")\n",
    "    .agg(avg(\"num_days_late\").alias(\"days_cases_late\"))\n",
    "    .limit(5)\n",
    "    .toPandas()\n",
    "    .set_index(\"service_request_type\")\n",
    "    .days_cases_late.sort_values()\n",
    "    .plot.barh(width=1, edgecolor=\"black\", color='green', figsize=(14, 5))\n",
    ")\n",
    "plt.xlabel(\"Avg Number of Days Late\")\n",
    "plt.title(\"Avg Number of Days Late By Department\")"
   ]
  },
  {
   "cell_type": "code",
   "execution_count": null,
   "id": "fb6679ae-6d76-4d47-9e31-686674b93fc3",
   "metadata": {},
   "outputs": [],
   "source": [
    "(\n",
    "    df.where('case_late').where(df.department=='Parks & Recreation')\n",
    "    .groupby(\"service_request_type\")\n",
    "    .agg(avg(\"num_days_late\").alias(\"days_cases_late\"))\n",
    "    .limit(5)\n",
    "    .toPandas()\n",
    "    .set_index(\"service_request_type\")\n",
    "    .days_cases_late.sort_values()\n",
    "    .plot.barh(width=1, edgecolor=\"black\", color='green', figsize=(14, 5))\n",
    ")\n",
    "plt.xlabel(\"Avg Number of Days Late\")\n",
    "plt.title(\"Avg Number of Days Late By Department\")"
   ]
  },
  {
   "cell_type": "markdown",
   "id": "9d2ae35a-c9ad-4e9b-9c7c-06187728df6a",
   "metadata": {},
   "source": [
    "### For the DSD/Code Enforcement department, what are the most common service request types? Look at other departments too."
   ]
  },
  {
   "cell_type": "code",
   "execution_count": null,
   "id": "58f33ef1-7e4b-4137-a1e2-fb0d61ead743",
   "metadata": {},
   "outputs": [],
   "source": [
    "(\n",
    "    df.where(expr('department==\"DSD/Code Enforcement\"'))\n",
    "    .groupby(\"service_request_type\")\n",
    "    .count()\n",
    "    .sort(desc('count'))\n",
    "    .limit(5)\n",
    "    .toPandas()\n",
    "    .set_index(\"service_request_type\")\n",
    "    .plot.barh(width=1, edgecolor=\"black\", color='orange', figsize=(14, 5))\n",
    ")\n",
    "plt.xlabel(\"Count of Requests\")\n",
    "plt.title(\"Requests in DSD/Code Enforcement\")"
   ]
  },
  {
   "cell_type": "code",
   "execution_count": null,
   "id": "4f8e1a2d-72f8-43b1-a913-57011df7d775",
   "metadata": {},
   "outputs": [],
   "source": [
    "(\n",
    "    df.where(expr('department==\"Parks & Recreation\"'))\n",
    "    .groupby(\"service_request_type\")\n",
    "    .count()\n",
    "    .sort(desc('count'))\n",
    "    .limit(5)\n",
    "    .toPandas()\n",
    "    .set_index(\"service_request_type\")\n",
    "    .plot.barh(width=1, edgecolor=\"black\", color='orange', figsize=(14, 5))\n",
    ")\n",
    "plt.xlabel(\"Count of Requests\")\n",
    "plt.title(\"Requests in Parks & Recreation\")"
   ]
  },
  {
   "cell_type": "code",
   "execution_count": null,
   "id": "5d850b1a-0b6a-4d6a-b2d3-7bee2d1c0788",
   "metadata": {},
   "outputs": [],
   "source": [
    "(\n",
    "    df.where(expr('department==\"Animal Care Services\"'))\n",
    "    .groupby(\"service_request_type\")\n",
    "    .count()\n",
    "    .sort(desc('count'))\n",
    "    .limit(5)\n",
    "    .toPandas()\n",
    "    .set_index(\"service_request_type\")\n",
    "    .plot.barh(width=1, edgecolor=\"black\", color='orange', figsize=(14, 5))\n",
    ")\n",
    "plt.xlabel(\"Count of Requests\")\n",
    "plt.title(\"Requests in Animal Care Services\")"
   ]
  },
  {
   "cell_type": "markdown",
   "id": "44624b59-1eed-44af-98b5-90d7ca8dc50d",
   "metadata": {},
   "source": [
    "### Does whether or not its a weekend matter for when a case is opened/closed?"
   ]
  },
  {
   "cell_type": "code",
   "execution_count": null,
   "id": "7da77875-601f-4acd-992e-9d496f78b1ee",
   "metadata": {},
   "outputs": [],
   "source": [
    "df = df.withColumn(\"week_day_name\", date_format(\"case_opened_date\", \"E\"))"
   ]
  },
  {
   "cell_type": "code",
   "execution_count": null,
   "id": "9bada07e-bd40-4634-a3d5-1b5accf819cf",
   "metadata": {},
   "outputs": [],
   "source": [
    "df.show(1, vertical=True)"
   ]
  },
  {
   "cell_type": "code",
   "execution_count": null,
   "id": "6bbbfac8-c6fa-40be-a158-be9c9842b419",
   "metadata": {},
   "outputs": [],
   "source": [
    "#cases opened\n",
    "(\n",
    "    df.groupBy(\"week_day_name\")\n",
    "    .count()\n",
    "    .sort(desc('count'))\n",
    "    # then pass the data to pandas for visualization\n",
    "    .toPandas()\n",
    "    .set_index(\"week_day_name\")[\"count\"]\n",
    "    .plot.barh(width=1, edgecolor=\"black\", color='green', figsize=(14, 5))\n",
    ")\n",
    "\n",
    "plt.xlabel(\"Cases Opened\")\n",
    "plt.ylabel(\"\")\n",
    "plt.title(\"Cases Opened by Weekday\")"
   ]
  },
  {
   "cell_type": "code",
   "execution_count": null,
   "id": "3fa7e869-539a-43b1-ad93-fe7da6dcb745",
   "metadata": {},
   "outputs": [],
   "source": [
    "#case closed\n",
    "df = df.withColumn(\"week_day_name_closed\", date_format(\"case_closed_date\", \"E\"))"
   ]
  },
  {
   "cell_type": "code",
   "execution_count": null,
   "id": "434dfc3f-1d44-465e-a8bf-be4391e418bf",
   "metadata": {},
   "outputs": [],
   "source": [
    "#day of the week case was closed\n",
    "(\n",
    "    df.groupBy(\"week_day_name_closed\")\n",
    "    .count()\n",
    "    .sort(desc('count'))\n",
    "    # then pass the data to pandas for visualization\n",
    "    .toPandas()\n",
    "    .set_index(\"week_day_name_closed\")[\"count\"]\n",
    "    .plot.barh(width=1, edgecolor=\"black\", color='green', figsize=(14, 5))\n",
    ")\n",
    "\n",
    "plt.xlabel(\"Cases Closed\")\n",
    "plt.ylabel(\"\")\n",
    "plt.title(\"Cases Closed by Weekday\")"
   ]
  },
  {
   "cell_type": "markdown",
   "id": "b3580f8e-3705-4aca-9196-94008c03532f",
   "metadata": {},
   "source": [
    "Seems that less cases are opened and closed on Saturdays and Sundays."
   ]
  },
  {
   "cell_type": "markdown",
   "id": "4223f124-211a-4127-b34c-9b368dc295c7",
   "metadata": {},
   "source": [
    "### On average, how many cases are opened a day for the Customer Service department?"
   ]
  },
  {
   "cell_type": "code",
   "execution_count": null,
   "id": "8775f8e0-dc59-4263-a54a-31eb130ba8cb",
   "metadata": {},
   "outputs": [],
   "source": [
    "n_cases = (\n",
    "    df.withColumn(\"case_opened_date\", expr(\"date(case_opened_date)\"))\n",
    "    .filter(df.department == \"Customer Service\")\n",
    "    .groupby(\"case_opened_date\")\n",
    "    .count()\n",
    "    .toPandas()\n",
    ")\n"
   ]
  },
  {
   "cell_type": "code",
   "execution_count": null,
   "id": "126566f8-ef10-4695-8a71-617054c76653",
   "metadata": {},
   "outputs": [],
   "source": [
    "n_cases"
   ]
  },
  {
   "cell_type": "code",
   "execution_count": null,
   "id": "360553e7-5433-4b77-8884-35b55d3a2d1a",
   "metadata": {},
   "outputs": [],
   "source": [
    "#5.56 cases opened on average\n",
    "n_cases.mean()"
   ]
  },
  {
   "cell_type": "code",
   "execution_count": null,
   "id": "70c297c6-d88a-4094-8426-1696d6da222f",
   "metadata": {},
   "outputs": [],
   "source": [
    "n_of_cases = n_cases['count']\n",
    "mean_cases = n_of_cases.mean()\n",
    "n_of_cases.value_counts().sort_index().plot.bar(width=1, edgecolor=\"black\", color='green', figsize=(14, 5))\n",
    "plt.xlabel(\"Number of Cases Opened/Day\")\n",
    "plt.ylabel(\"Frequency\")\n",
    "plt.title(\"How Many Cases are Opened in a Day?\")\n",
    "plt.xticks(rotation=0)\n",
    "plt.show()"
   ]
  },
  {
   "cell_type": "markdown",
   "id": "5fb3713c-89f1-4def-baac-24bc2a87df62",
   "metadata": {},
   "source": [
    "### Does the number of service requests for the solid waste department vary by day of the week?"
   ]
  },
  {
   "cell_type": "code",
   "execution_count": null,
   "id": "27e388c5-3d44-4fdf-b472-1f6eeed87095",
   "metadata": {},
   "outputs": [],
   "source": [
    "n_cases = (\n",
    "    df.withColumn(\"case_opened_date\", expr(\"date(case_opened_date)\"))\n",
    "    .filter(df.department == \"Solid Waste\")\n",
    "    .groupby('case_opened_date')\n",
    "    .count()\n",
    "    #.toPandas()\n",
    ")\n",
    "\n"
   ]
  },
  {
   "cell_type": "code",
   "execution_count": null,
   "id": "95bf5aa8-9ab7-4d58-9765-f41cece5579f",
   "metadata": {},
   "outputs": [],
   "source": [
    "n_cases = n_cases.withColumn(\"week_day_name\", date_format(\"case_opened_date\", \"E\"))"
   ]
  },
  {
   "cell_type": "code",
   "execution_count": null,
   "id": "3a833629-77a4-4296-9bfd-cffa7c513315",
   "metadata": {},
   "outputs": [],
   "source": [
    "n_cases = n_cases.toPandas().set_index('week_day_name')"
   ]
  },
  {
   "cell_type": "code",
   "execution_count": null,
   "id": "07ffce0b-92e8-4102-9c82-15c797cfb87f",
   "metadata": {},
   "outputs": [],
   "source": [
    "n_cases"
   ]
  },
  {
   "cell_type": "code",
   "execution_count": null,
   "id": "c35473ad-b367-4269-878b-eaf261b93551",
   "metadata": {},
   "outputs": [],
   "source": [
    "n_cases = n_cases.drop(columns=['case_opened_date'])"
   ]
  },
  {
   "cell_type": "code",
   "execution_count": null,
   "id": "445ca331-883c-486a-96ca-90b7c2616662",
   "metadata": {},
   "outputs": [],
   "source": [
    "n_cases = n_cases.groupby(['week_day_name']).mean()"
   ]
  },
  {
   "cell_type": "code",
   "execution_count": null,
   "id": "d56355ce-d591-4638-949e-57aaba5e4fc9",
   "metadata": {},
   "outputs": [],
   "source": [
    "n_cases"
   ]
  },
  {
   "cell_type": "code",
   "execution_count": null,
   "id": "d0908204-64ea-42ad-87b3-0339f2dd1547",
   "metadata": {},
   "outputs": [],
   "source": [
    "n_cases.plot.bar(width=1, edgecolor=\"black\", color='orange', figsize=(14, 5))"
   ]
  },
  {
   "cell_type": "markdown",
   "id": "87af4040-036d-4bdb-8862-dbc3759e7b9d",
   "metadata": {},
   "source": [
    "They seem pretty consistent over the weekdays, but drop during the weekends."
   ]
  },
  {
   "cell_type": "code",
   "execution_count": null,
   "id": "47333ff2-9f70-4130-b6c8-81de999f3407",
   "metadata": {},
   "outputs": [],
   "source": [
    "days = [ 'Monday', 'Tuesday', 'Wednesday', 'Thursday', 'Friday', 'Saturday', 'Sunday']\n",
    "#days_type = pd.Categorical(n_cases['week_day_name'],categories=days, ordered=True)\n",
    "\n",
    "#n_cases['week_day_name'] = n_cases['week_day_name'].astype('category')"
   ]
  },
  {
   "cell_type": "code",
   "execution_count": null,
   "id": "07aa9cb8-a41e-4366-abea-3cfa0c281844",
   "metadata": {},
   "outputs": [],
   "source": [
    "n_cases = n_cases.reset_index()"
   ]
  },
  {
   "cell_type": "code",
   "execution_count": null,
   "id": "ba405350-79c7-432e-abe6-43ecac7208cc",
   "metadata": {},
   "outputs": [],
   "source": [
    "n_cases.loc[n_cases['week_day_name']=='Mon', 'order']=1\n",
    "n_cases.loc[n_cases['week_day_name']=='Tue', 'order']=2\n",
    "n_cases.loc[n_cases['week_day_name']=='Wed', 'order']=3\n",
    "n_cases.loc[n_cases['week_day_name']=='Thu', 'order']=4\n",
    "n_cases.loc[n_cases['week_day_name']=='Fri', 'order']=5\n",
    "n_cases.loc[n_cases['week_day_name']=='Sat', 'order']=6\n",
    "n_cases.loc[n_cases['week_day_name']=='Sun', 'order']=7"
   ]
  },
  {
   "cell_type": "code",
   "execution_count": null,
   "id": "e6d6c871-cde3-43b7-9db9-1fc7ca87101d",
   "metadata": {},
   "outputs": [],
   "source": [
    "n_cases"
   ]
  },
  {
   "cell_type": "code",
   "execution_count": null,
   "id": "cae5c2e1-ccea-4d6a-b993-0de2771c9c3a",
   "metadata": {},
   "outputs": [],
   "source": [
    "n_cases = n_cases.sort_values('order')"
   ]
  },
  {
   "cell_type": "code",
   "execution_count": null,
   "id": "064435a6-8b53-46aa-82ff-af3cb9d87a85",
   "metadata": {},
   "outputs": [],
   "source": [
    "n_cases.plot.bar(x = 'week_day_name', y='count',width=1, edgecolor=\"black\", color='orange', figsize=(14, 5))\n",
    "plt.xticks(rotation=0)\n",
    "plt.show()"
   ]
  },
  {
   "cell_type": "code",
   "execution_count": null,
   "id": "98da894d-cfe3-49cf-91e9-9bdfe7543209",
   "metadata": {},
   "outputs": [],
   "source": [
    "n_cases = (\n",
    "    df.withColumn(\"case_opened_date\", expr(\"date(case_opened_date)\"))\n",
    "    .filter(df.department == \"Solid Waste\")\n",
    "    .groupby('case_opened_date')\n",
    "    .count()\n",
    "    .set_index\n",
    ")\n",
    "\n",
    "\n"
   ]
  }
 ],
 "metadata": {
  "kernelspec": {
   "display_name": "Python 3 (ipykernel)",
   "language": "python",
   "name": "python3"
  },
  "language_info": {
   "codemirror_mode": {
    "name": "ipython",
    "version": 3
   },
   "file_extension": ".py",
   "mimetype": "text/x-python",
   "name": "python",
   "nbconvert_exporter": "python",
   "pygments_lexer": "ipython3",
   "version": "3.9.7"
  }
 },
 "nbformat": 4,
 "nbformat_minor": 5
}
